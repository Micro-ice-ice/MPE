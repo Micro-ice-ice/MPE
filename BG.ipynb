{
  "cells": [
    {
      "cell_type": "markdown",
      "id": "b116eac2",
      "metadata": {
        "id": "b116eac2"
      },
      "source": [
        "# Метод Бубнова-Галёркина\n",
        "\n",
        "8.6.3 (вариант 1)\n",
        "\n",
        "y\" - 5y' + 6y = 3\n",
        "\n",
        "y(-1) = 1\n",
        "\n",
        "y(1) = 1\n",
        "\n",
        "-1 <= x <= 1\n"
      ]
    },
    {
      "cell_type": "code",
      "execution_count": 204,
      "id": "89cf6b17",
      "metadata": {
        "id": "89cf6b17"
      },
      "outputs": [],
      "source": [
        "import numpy as np\n",
        "import scipy.linalg as sla\n",
        "from math import sqrt, cos, log, e\n",
        "import matplotlib.pyplot as plt"
      ]
    },
    {
      "cell_type": "code",
      "execution_count": 205,
      "id": "e0f9ffa3",
      "metadata": {},
      "outputs": [],
      "source": [
        "def phi(l, h, x, x_v):\n",
        "\tif x < x_v[l - 1] or x > x_v[l + 1]:\n",
        "\t\treturn 0\n",
        "\tif x_v[l - 1] <= x and x <= x_v[l]:\n",
        "\t\treturn (x - x_v[l - 1]) / h\n",
        "\tif x_v[l] <= x and x <= x_v[l + 1]:\n",
        "\t\treturn (x_v[l + 1] - x) / h"
      ]
    },
    {
      "cell_type": "code",
      "execution_count": 206,
      "id": "d6875ce2",
      "metadata": {},
      "outputs": [],
      "source": [
        "def dphidx(l, h, x, x_v):\n",
        "\tif x < x_v[l - 1] or x > x_v[l + 1]:\n",
        "\t\treturn 0\n",
        "\tif x_v[l - 1] <= x and x <= x_v[l]:\n",
        "\t\treturn (1 / h)\n",
        "\tif x_v[l] <= x and x <= x_v[l + 1]:\n",
        "\t\treturn (-1 / h)"
      ]
    },
    {
      "cell_type": "code",
      "execution_count": 207,
      "id": "553c51e0",
      "metadata": {
        "id": "553c51e0"
      },
      "outputs": [],
      "source": [
        "def\tintegral(left, right, h,  f):\n",
        "\tn = 2\n",
        "\txi = left + h / 2\n",
        "\tresult = 0\t\n",
        "\tfor i in range(0, n):\n",
        "\t\tresult = result + f(xi)\n",
        "\t\txi = xi + h\n",
        "\treturn result / h\n"
      ]
    },
    {
      "cell_type": "code",
      "execution_count": 208,
      "id": "976e3ebc",
      "metadata": {},
      "outputs": [],
      "source": [
        "def A_i_j(i, j, left, right, h, x_v):\n",
        "    f = lambda x: -1 * dphidx(i, h, x, x_v) * dphidx(j, h, x, x_v) -5 * dphidx(i, h, x, x_v) * phi(j, h, x, x_v) + 6 * phi(i, h, x, x_v) * phi(j, h, x, x_v)\n",
        "    return integral(x_v[i - 1], x_v[i + 1], h, f)"
      ]
    },
    {
      "cell_type": "code",
      "execution_count": 209,
      "id": "bea1fecd",
      "metadata": {},
      "outputs": [],
      "source": [
        "def b_i(i, left, right, h, x_v):\n",
        "    f = lambda x: -3 * phi(i, h, x, x_v)\n",
        "    return integral(x_v[i - 1], x_v[i + 1], h, f)"
      ]
    },
    {
      "cell_type": "code",
      "execution_count": 210,
      "id": "08f359fc",
      "metadata": {},
      "outputs": [],
      "source": [
        "def analitic(x):\n",
        "    return (e**(2 * x) + e**(2 * x + 2) + e**(2 * x + 4) - e**(3 * x + 1) - e**(3 * x + 3) + e**2) / (2 * e**2)"
      ]
    },
    {
      "cell_type": "code",
      "execution_count": 211,
      "id": "579700ef",
      "metadata": {},
      "outputs": [
        {
          "name": "stdout",
          "output_type": "stream",
          "text": [
            "200\n"
          ]
        },
        {
          "data": {
            "image/png": "[encoded data removed]",
            "text/plain": [
              "<Figure size 640x480 with 1 Axes>"
            ]
          },
          "metadata": {},
          "output_type": "display_data"
        }
      ],
      "source": [
        "left = -1\n",
        "right = 1\n",
        "h = 0.01\n",
        "x_v = [left]\n",
        "n = int((right - left) / h)\n",
        "for i in range(0, n):\n",
        "    x_v.append(x_v[i] + h)\n",
        "A = np.zeros((n - 1, n - 1))\n",
        "b = np.zeros((n - 1))\n",
        "\n",
        "print(n)\n",
        "\n",
        "for i in range(1, n - 1):\n",
        "    for j in range(i - 1, i + 2):\n",
        "        A[i - 1, j - 1] = A_i_j(i, j, left, right, h, x_v)\n",
        "A[n - 2, n - 2] = A_i_j(n - 1, n - 1, left, right, h, x_v)\n",
        "A[n - 2, n - 3] = A_i_j(n - 1, n - 2, left, right, h, x_v)\n",
        "\n",
        "for i in range(1, n):\n",
        "    b[i - 1] = b_i(i, left, right, h, x_v)\n",
        "\n",
        "# print(A)\n",
        "# print(b)\n",
        "\n",
        "C = np.linalg.solve(A.T, b)\n",
        "\n",
        "y_v = []\n",
        "y_analitic_v = []\n",
        "\n",
        "for x in x_v:\n",
        "    y = 1\n",
        "    for i in range(0, len(C)):\n",
        "        y = y + C[i]  * phi(i + 1, h, x, x_v)\n",
        "    y_v.append(y)\n",
        "    y_analitic_v.append(analitic(x))\n",
        "\n",
        "plt.plot(x_v, y_v)\n",
        "plt.plot(x_v, y_analitic_v)\n",
        "plt.show()"
      ]
    },
    {
      "cell_type": "code",
      "execution_count": 212,
      "id": "38f08dba",
      "metadata": {},
      "outputs": [
        {
          "name": "stdout",
          "output_type": "stream",
          "text": [
            "10\n",
            "20\n",
            "40\n",
            "80\n",
            "160\n",
            "320\n",
            "640\n",
            "1280\n",
            "2560\n"
          ]
        },
        {
          "data": {
            "image/png": "[encoded data removed]",
            "text/plain": [
              "<Figure size 640x480 with 1 Axes>"
            ]
          },
          "metadata": {},
          "output_type": "display_data"
        }
      ],
      "source": [
        "left = -1\n",
        "right = 1\n",
        "\n",
        "delta_v = []\n",
        "h_v = []\n",
        "\n",
        "h_list = [0.2]\n",
        "n = 8 # h-count\n",
        "for i in range(0, n):\n",
        "    h_list.append(h_list[i] / 2)\n",
        "\n",
        "for h in h_list:\n",
        "    x_v = [left]\n",
        "    n = int((right - left) / h)\n",
        "    for i in range(0, n):\n",
        "        x_v.append(x_v[i] + h)\n",
        "    A = np.zeros((n - 1, n - 1))\n",
        "    b = np.zeros((n - 1))\n",
        "\n",
        "    print(n)\n",
        "\n",
        "    for i in range(1, n - 1):\n",
        "        for j in range(i - 1, i + 2):\n",
        "            A[i - 1, j - 1] = A_i_j(i, j, left, right, h, x_v)\n",
        "    A[n - 2, n - 2] = A_i_j(n - 1, n - 1, left, right, h, x_v)\n",
        "    A[n - 2, n - 3] = A_i_j(n - 1, n - 2, left, right, h, x_v)\n",
        "\n",
        "    for i in range(1, n):\n",
        "        b[i - 1] = b_i(i, left, right, h, x_v)\n",
        "\n",
        "    # print(A)\n",
        "    # print(b)\n",
        "\n",
        "    C = np.linalg.solve(A.T, b)\n",
        "\n",
        "    delta = 0\n",
        "    for x in x_v:\n",
        "        y = 1\n",
        "        for i in range(0, len(C)):\n",
        "            y = y + C[i]  * phi(i + 1, h, x, x_v)\n",
        "        \n",
        "        y_analitic = analitic(x)\n",
        "\n",
        "        if abs(y_analitic - y) > delta:\n",
        "            delta = abs(y_analitic - y)\n",
        "    \n",
        "    delta_v.append((delta))\n",
        "    h_v.append(h)\n",
        "\n",
        "\n",
        "plt.plot(h_v, delta_v)\n",
        "plt.show()\n"
      ]
    }
  ],
  "metadata": {
    "colab": {
      "provenance": []
    },
    "kernelspec": {
      "display_name": "Python 3.10.6 64-bit",
      "language": "python",
      "name": "python3"
    },
    "language_info": {
      "codemirror_mode": {
        "name": "ipython",
        "version": 3
      },
      "file_extension": ".py",
      "mimetype": "text/x-python",
      "name": "python",
      "nbconvert_exporter": "python",
      "pygments_lexer": "ipython3",
      "version": "3.10.6"
    },
    "vscode": {
      "interpreter": {
        "hash": "916dbcbb3f70747c44a77c7bcd40155683ae19c65e1c03b4aa3499c5328201f1"
      }
    }
  },
  "nbformat": 4,
  "nbformat_minor": 5
}
